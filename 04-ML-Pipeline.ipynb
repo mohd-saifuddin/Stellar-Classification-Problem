{
 "cells": [
  {
   "cell_type": "markdown",
   "id": "98884ff9",
   "metadata": {},
   "source": [
    "In this notebook, I will create a pipeline mechanism to feed the query data for the model to predict the results. This is an important aspect of modeling to check how the model does prediction on a single query point.\n",
    "\n",
    "From `03-Modeling-FI.ipynb` notebook, I noticed __Gradient Boosting__ ensemble classifier outperformed all the models including Random Forest and XGBoost classifiers. Though train loss of Random Forest and XGBoost classifiers is negligible, the cross-validation loss is more, which substantiates the fact that both the models are overfitting."
   ]
  },
  {
   "cell_type": "markdown",
   "id": "0948f9ad",
   "metadata": {},
   "source": [
    "__1. Packages__"
   ]
  },
  {
   "cell_type": "code",
   "execution_count": 1,
   "id": "62bcb7c5",
   "metadata": {},
   "outputs": [],
   "source": [
    "import warnings\n",
    "warnings.filterwarnings('ignore')"
   ]
  },
  {
   "cell_type": "code",
   "execution_count": 2,
   "id": "c2934d56",
   "metadata": {},
   "outputs": [],
   "source": [
    "from IPython.display import display"
   ]
  },
  {
   "cell_type": "code",
   "execution_count": 3,
   "id": "13379507",
   "metadata": {},
   "outputs": [],
   "source": [
    "from matplotlib import pyplot as plt\n",
    "from matplotlib import style\n",
    "style.use(style='seaborn-deep')"
   ]
  },
  {
   "cell_type": "code",
   "execution_count": 4,
   "id": "68431bc2",
   "metadata": {},
   "outputs": [],
   "source": [
    "from tabulate import tabulate"
   ]
  },
  {
   "cell_type": "code",
   "execution_count": 5,
   "id": "aa2b9cf5",
   "metadata": {},
   "outputs": [],
   "source": [
    "import numpy as np\n",
    "import os\n",
    "import pandas as pd\n",
    "import pickle\n",
    "import seaborn as sns"
   ]
  },
  {
   "cell_type": "code",
   "execution_count": 6,
   "id": "f184e1ab",
   "metadata": {},
   "outputs": [],
   "source": [
    "from sklearn.preprocessing import MinMaxScaler"
   ]
  },
  {
   "cell_type": "markdown",
   "id": "7045b5b2",
   "metadata": {},
   "source": [
    "__2. Features and target__"
   ]
  },
  {
   "cell_type": "code",
   "execution_count": 7,
   "id": "3a17613d",
   "metadata": {},
   "outputs": [],
   "source": [
    "features = ['alpha', 'delta', 'u', 'g', 'r', 'i', 'z', 'redshift']\n",
    "target = 'class'"
   ]
  },
  {
   "cell_type": "markdown",
   "id": "5c6c031e",
   "metadata": {},
   "source": [
    "__3. Fetch the raw data__"
   ]
  },
  {
   "cell_type": "code",
   "execution_count": 8,
   "id": "da1f7e0b",
   "metadata": {},
   "outputs": [],
   "source": [
    "def fetch_data(features):\n",
    "    \"\"\"\n",
    "    This function fetches the raw data.\n",
    "    \"\"\"\n",
    "    data = {f: [float(input(\"  '{}': \".format(f)))] for f in features}\n",
    "    df = pd.DataFrame(data=data)\n",
    "    print(\"Raw data is fetched successfully.\")\n",
    "    return df"
   ]
  },
  {
   "cell_type": "code",
   "execution_count": 9,
   "id": "d12a0dab",
   "metadata": {},
   "outputs": [
    {
     "name": "stdout",
     "output_type": "stream",
     "text": [
      "  'alpha': 20\n",
      "  'delta': 20\n",
      "  'u': 20\n",
      "  'g': 20\n",
      "  'r': 20\n",
      "  'i': 20\n",
      "  'z': 20\n",
      "  'redshift': 20\n",
      "Raw data is fetched successfully.\n"
     ]
    }
   ],
   "source": [
    "df = fetch_data(features=features)"
   ]
  },
  {
   "cell_type": "markdown",
   "id": "5e86130c",
   "metadata": {},
   "source": [
    "__4. Preprocess the raw data__"
   ]
  },
  {
   "cell_type": "code",
   "execution_count": 10,
   "id": "ea3fd8c5",
   "metadata": {},
   "outputs": [],
   "source": [
    "def preprocess(df, features):\n",
    "    \"\"\"\n",
    "    This function preprocess the rae data.\n",
    "    \"\"\"\n",
    "    with open(file='scaling.pkl', mode='rb') as pre_pkl:\n",
    "        scaling = pickle.load(file=pre_pkl)\n",
    "    \n",
    "    df = scaling.transform(X=df)\n",
    "    df = pd.DataFrame(data=df, columns=features)\n",
    "    return df"
   ]
  },
  {
   "cell_type": "code",
   "execution_count": 11,
   "id": "a21edbb1",
   "metadata": {},
   "outputs": [
    {
     "data": {
      "text/html": [
       "<div>\n",
       "<style scoped>\n",
       "    .dataframe tbody tr th:only-of-type {\n",
       "        vertical-align: middle;\n",
       "    }\n",
       "\n",
       "    .dataframe tbody tr th {\n",
       "        vertical-align: top;\n",
       "    }\n",
       "\n",
       "    .dataframe thead th {\n",
       "        text-align: right;\n",
       "    }\n",
       "</style>\n",
       "<table border=\"1\" class=\"dataframe\">\n",
       "  <thead>\n",
       "    <tr style=\"text-align: right;\">\n",
       "      <th></th>\n",
       "      <th>alpha</th>\n",
       "      <th>delta</th>\n",
       "      <th>u</th>\n",
       "      <th>g</th>\n",
       "      <th>r</th>\n",
       "      <th>i</th>\n",
       "      <th>z</th>\n",
       "      <th>redshift</th>\n",
       "    </tr>\n",
       "  </thead>\n",
       "  <tbody>\n",
       "    <tr>\n",
       "      <th>0</th>\n",
       "      <td>0.055541</td>\n",
       "      <td>0.373981</td>\n",
       "      <td>0.413298</td>\n",
       "      <td>0.472173</td>\n",
       "      <td>0.515344</td>\n",
       "      <td>0.464463</td>\n",
       "      <td>0.525388</td>\n",
       "      <td>2.84993</td>\n",
       "    </tr>\n",
       "  </tbody>\n",
       "</table>\n",
       "</div>"
      ],
      "text/plain": [
       "      alpha     delta         u         g         r         i         z  \\\n",
       "0  0.055541  0.373981  0.413298  0.472173  0.515344  0.464463  0.525388   \n",
       "\n",
       "   redshift  \n",
       "0   2.84993  "
      ]
     },
     "metadata": {},
     "output_type": "display_data"
    }
   ],
   "source": [
    "df = preprocess(df=df, features=features)\n",
    "display(df)"
   ]
  },
  {
   "cell_type": "markdown",
   "id": "841a47f2",
   "metadata": {},
   "source": [
    "__5. Feature engineering on preprocessed data__"
   ]
  },
  {
   "cell_type": "code",
   "execution_count": 12,
   "id": "fc541793",
   "metadata": {},
   "outputs": [],
   "source": [
    "def featurize(df):\n",
    "    \"\"\"\n",
    "    This function featurizes the dataframe.\n",
    "    It selects the important features obtained using RF.\n",
    "    Please refer 02-Modeling and 03-Modeling-FI notebooks.\n",
    "    \"\"\"\n",
    "    fi_cols = ['g', 'redshift', 'g-r', 'i-z', 'u-r', 'i-r', 'z-r']\n",
    "    df['g-r'] = df['g'] - df['r']\n",
    "    df['i-z'] = df['i'] - df['z']\n",
    "    df['u-r'] = df['u'] - df['r']\n",
    "    df['i-r'] = df['i'] - df['r']\n",
    "    df['z-r'] = df['z'] - df['r']\n",
    "    df = df[fi_cols]\n",
    "    return df"
   ]
  },
  {
   "cell_type": "code",
   "execution_count": 13,
   "id": "51358a01",
   "metadata": {},
   "outputs": [
    {
     "data": {
      "text/html": [
       "<div>\n",
       "<style scoped>\n",
       "    .dataframe tbody tr th:only-of-type {\n",
       "        vertical-align: middle;\n",
       "    }\n",
       "\n",
       "    .dataframe tbody tr th {\n",
       "        vertical-align: top;\n",
       "    }\n",
       "\n",
       "    .dataframe thead th {\n",
       "        text-align: right;\n",
       "    }\n",
       "</style>\n",
       "<table border=\"1\" class=\"dataframe\">\n",
       "  <thead>\n",
       "    <tr style=\"text-align: right;\">\n",
       "      <th></th>\n",
       "      <th>g</th>\n",
       "      <th>redshift</th>\n",
       "      <th>g-r</th>\n",
       "      <th>i-z</th>\n",
       "      <th>u-r</th>\n",
       "      <th>i-r</th>\n",
       "      <th>z-r</th>\n",
       "    </tr>\n",
       "  </thead>\n",
       "  <tbody>\n",
       "    <tr>\n",
       "      <th>0</th>\n",
       "      <td>0.472173</td>\n",
       "      <td>2.84993</td>\n",
       "      <td>-0.04317</td>\n",
       "      <td>-0.060926</td>\n",
       "      <td>-0.102045</td>\n",
       "      <td>-0.050881</td>\n",
       "      <td>0.010045</td>\n",
       "    </tr>\n",
       "  </tbody>\n",
       "</table>\n",
       "</div>"
      ],
      "text/plain": [
       "          g  redshift      g-r       i-z       u-r       i-r       z-r\n",
       "0  0.472173   2.84993 -0.04317 -0.060926 -0.102045 -0.050881  0.010045"
      ]
     },
     "metadata": {},
     "output_type": "display_data"
    }
   ],
   "source": [
    "df = featurize(df=df)\n",
    "display(df)"
   ]
  },
  {
   "cell_type": "markdown",
   "id": "3fbc2fdf",
   "metadata": {},
   "source": [
    "__6. Predictions__"
   ]
  },
  {
   "cell_type": "code",
   "execution_count": 14,
   "id": "c2805f74",
   "metadata": {},
   "outputs": [],
   "source": [
    "def prediction(X):\n",
    "    \"\"\"\n",
    "    This functions predicts the datapoint.\n",
    "    \"\"\"\n",
    "    with open(file='gb_classifier.pkl', mode='rb') as m_pkl:\n",
    "        clf, sig_clf = pickle.load(file=m_pkl)\n",
    "    \n",
    "    pred = sig_clf.predict(X=X)\n",
    "    print(\"Predicted class: {}\".format(pred))"
   ]
  },
  {
   "cell_type": "code",
   "execution_count": 15,
   "id": "a4b9ce76",
   "metadata": {},
   "outputs": [
    {
     "name": "stdout",
     "output_type": "stream",
     "text": [
      "Predicted class: ['QSO']\n"
     ]
    }
   ],
   "source": [
    "prediction(X=df)"
   ]
  },
  {
   "cell_type": "markdown",
   "id": "c0d14db9",
   "metadata": {},
   "source": [
    "__7. Machine learning pipeline__"
   ]
  },
  {
   "cell_type": "code",
   "execution_count": 16,
   "id": "41dd63f8",
   "metadata": {},
   "outputs": [],
   "source": [
    "def ml_application(features):\n",
    "    \"\"\"\n",
    "    This is a local machine learning application.\n",
    "    \"\"\"\n",
    "    print(\"Please provide the data for below features.\")\n",
    "    df = fetch_data(features=features)\n",
    "    df = preprocess(df=df, features=features)\n",
    "    df = featurize(df=df)\n",
    "    prediction(X=df)"
   ]
  },
  {
   "cell_type": "code",
   "execution_count": 18,
   "id": "24b186c5",
   "metadata": {},
   "outputs": [
    {
     "name": "stdout",
     "output_type": "stream",
     "text": [
      "Please provide the data for below features.\n",
      "  'alpha': 11\n",
      "  'delta': 1\n",
      "  'u': 11\n",
      "  'g': 1\n",
      "  'r': 11\n",
      "  'i': 11\n",
      "  'z': 11\n",
      "  'redshift': 0\n",
      "Raw data is fetched successfully.\n",
      "Predicted class: ['STAR']\n"
     ]
    }
   ],
   "source": [
    "ml_application(features=features)"
   ]
  },
  {
   "cell_type": "code",
   "execution_count": null,
   "id": "41a7407b",
   "metadata": {},
   "outputs": [],
   "source": []
  }
 ],
 "metadata": {
  "kernelspec": {
   "display_name": "Python 3 (ipykernel)",
   "language": "python",
   "name": "python3"
  },
  "language_info": {
   "codemirror_mode": {
    "name": "ipython",
    "version": 3
   },
   "file_extension": ".py",
   "mimetype": "text/x-python",
   "name": "python",
   "nbconvert_exporter": "python",
   "pygments_lexer": "ipython3",
   "version": "3.11.0"
  }
 },
 "nbformat": 4,
 "nbformat_minor": 5
}
