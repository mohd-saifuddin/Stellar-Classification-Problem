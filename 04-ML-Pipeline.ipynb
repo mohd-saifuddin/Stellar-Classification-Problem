{
 "cells": [
  {
   "cell_type": "markdown",
   "id": "8d45fc4a",
   "metadata": {},
   "source": [
    "In this notebook, I will create a pipeline mechanism to feed the query data for the model to predict the results. This is an important aspect of modeling to check how the model does prediction on a single query point.\n",
    "\n",
    "From `03-Modeling-FI.ipynb` notebook, I noticed __Gradient Boosting__ ensemble classifier outperformed all the models including Random Forest and XGBoost classifiers. Though train loss of Random Forest and XGBoost classifiers is negligible, the cross-validation loss is more, which substantiates the fact that both the models are overfitting."
   ]
  },
  {
   "cell_type": "markdown",
   "id": "78370553",
   "metadata": {},
   "source": [
    "__1. Packages__"
   ]
  },
  {
   "cell_type": "code",
   "execution_count": 1,
   "id": "b96e9c32",
   "metadata": {},
   "outputs": [],
   "source": [
    "import warnings\n",
    "warnings.filterwarnings('ignore')"
   ]
  },
  {
   "cell_type": "code",
   "execution_count": 2,
   "id": "3b5393ee",
   "metadata": {},
   "outputs": [],
   "source": [
    "from IPython.display import display"
   ]
  },
  {
   "cell_type": "code",
   "execution_count": 3,
   "id": "9155dbf4",
   "metadata": {},
   "outputs": [],
   "source": [
    "from matplotlib import pyplot as plt\n",
    "from matplotlib import style\n",
    "style.use(style='seaborn-deep')"
   ]
  },
  {
   "cell_type": "code",
   "execution_count": 4,
   "id": "d01f5330",
   "metadata": {},
   "outputs": [],
   "source": [
    "from tabulate import tabulate"
   ]
  },
  {
   "cell_type": "code",
   "execution_count": 5,
   "id": "517bb64f",
   "metadata": {},
   "outputs": [],
   "source": [
    "import numpy as np\n",
    "import os\n",
    "import pandas as pd\n",
    "import pickle\n",
    "import seaborn as sns"
   ]
  },
  {
   "cell_type": "code",
   "execution_count": 6,
   "id": "c45e513c",
   "metadata": {},
   "outputs": [],
   "source": [
    "from sklearn.preprocessing import MinMaxScaler"
   ]
  },
  {
   "cell_type": "markdown",
   "id": "3ab29181",
   "metadata": {},
   "source": [
    "__2. Features and target__"
   ]
  },
  {
   "cell_type": "code",
   "execution_count": 7,
   "id": "67cd8471",
   "metadata": {},
   "outputs": [],
   "source": [
    "features = ['alpha', 'delta', 'u', 'g', 'r', 'i', 'z', 'redshift']\n",
    "target = 'class'"
   ]
  },
  {
   "cell_type": "markdown",
   "id": "00c80cc6",
   "metadata": {},
   "source": [
    "__3. Fetch the raw data__"
   ]
  },
  {
   "cell_type": "code",
   "execution_count": 8,
   "id": "32c65d07",
   "metadata": {},
   "outputs": [],
   "source": [
    "def fetch_data(features):\n",
    "    \"\"\"\n",
    "    This function fetches the raw data.\n",
    "    \"\"\"\n",
    "    data = {f: [float(input(\"  '{}': \".format(f)))] for f in features}\n",
    "    df = pd.DataFrame(data=data)\n",
    "    print(\"Raw data is fetched successfully.\")\n",
    "    return df"
   ]
  },
  {
   "cell_type": "code",
   "execution_count": 9,
   "id": "98d9e1ae",
   "metadata": {},
   "outputs": [
    {
     "name": "stdout",
     "output_type": "stream",
     "text": [
      "  'alpha': 33\n",
      "  'delta': 23\n",
      "  'u': 12\n",
      "  'g': 34\n",
      "  'r': 22\n",
      "  'i': 9\n",
      "  'z': 10\n",
      "  'redshift': .1\n",
      "Raw data is fetched successfully.\n"
     ]
    }
   ],
   "source": [
    "df = fetch_data(features=features)"
   ]
  },
  {
   "cell_type": "markdown",
   "id": "1e3dba99",
   "metadata": {},
   "source": [
    "__4. Preprocess the raw data__"
   ]
  },
  {
   "cell_type": "code",
   "execution_count": 10,
   "id": "d215e9d3",
   "metadata": {},
   "outputs": [],
   "source": [
    "def preprocess(df, features):\n",
    "    \"\"\"\n",
    "    This function preprocess the rae data.\n",
    "    \"\"\"\n",
    "    with open(file='scaling.pkl', mode='rb') as pre_pkl:\n",
    "        scaling = pickle.load(file=pre_pkl)\n",
    "    \n",
    "    df = scaling.transform(X=df)\n",
    "    df = pd.DataFrame(data=df, columns=features)\n",
    "    return df"
   ]
  },
  {
   "cell_type": "code",
   "execution_count": 11,
   "id": "7f3bf227",
   "metadata": {},
   "outputs": [
    {
     "data": {
      "text/html": [
       "<div>\n",
       "<style scoped>\n",
       "    .dataframe tbody tr th:only-of-type {\n",
       "        vertical-align: middle;\n",
       "    }\n",
       "\n",
       "    .dataframe tbody tr th {\n",
       "        vertical-align: top;\n",
       "    }\n",
       "\n",
       "    .dataframe thead th {\n",
       "        text-align: right;\n",
       "    }\n",
       "</style>\n",
       "<table border=\"1\" class=\"dataframe\">\n",
       "  <thead>\n",
       "    <tr style=\"text-align: right;\">\n",
       "      <th></th>\n",
       "      <th>alpha</th>\n",
       "      <th>delta</th>\n",
       "      <th>u</th>\n",
       "      <th>g</th>\n",
       "      <th>r</th>\n",
       "      <th>i</th>\n",
       "      <th>z</th>\n",
       "      <th>redshift</th>\n",
       "    </tr>\n",
       "  </thead>\n",
       "  <tbody>\n",
       "    <tr>\n",
       "      <th>0</th>\n",
       "      <td>0.091653</td>\n",
       "      <td>0.403791</td>\n",
       "      <td>0.046076</td>\n",
       "      <td>1.168843</td>\n",
       "      <td>0.616611</td>\n",
       "      <td>-0.020727</td>\n",
       "      <td>0.019607</td>\n",
       "      <td>0.015663</td>\n",
       "    </tr>\n",
       "  </tbody>\n",
       "</table>\n",
       "</div>"
      ],
      "text/plain": [
       "      alpha     delta         u         g         r         i         z  \\\n",
       "0  0.091653  0.403791  0.046076  1.168843  0.616611 -0.020727  0.019607   \n",
       "\n",
       "   redshift  \n",
       "0  0.015663  "
      ]
     },
     "metadata": {},
     "output_type": "display_data"
    }
   ],
   "source": [
    "df = preprocess(df=df, features=features)\n",
    "display(df)"
   ]
  },
  {
   "cell_type": "markdown",
   "id": "3efdf62b",
   "metadata": {},
   "source": [
    "__5. Feature engineering on preprocessed data__"
   ]
  },
  {
   "cell_type": "code",
   "execution_count": 12,
   "id": "47d2debf",
   "metadata": {},
   "outputs": [],
   "source": [
    "def featurize(df):\n",
    "    \"\"\"\n",
    "    This function featurizes the dataframe.\n",
    "    It selects the important features obtained using RF.\n",
    "    Please refer 02-Modeling and 03-Modeling-FI notebooks.\n",
    "    \"\"\"\n",
    "    fi_cols = ['g', 'redshift', 'g-r', 'i-z', 'u-r', 'i-r', 'z-r']\n",
    "    df['g-r'] = df['g'] - df['r']\n",
    "    df['i-z'] = df['i'] - df['z']\n",
    "    df['u-r'] = df['u'] - df['r']\n",
    "    df['i-r'] = df['i'] - df['r']\n",
    "    df['z-r'] = df['z'] - df['r']\n",
    "    df = df[fi_cols]\n",
    "    return df"
   ]
  },
  {
   "cell_type": "code",
   "execution_count": 13,
   "id": "dbef00b3",
   "metadata": {},
   "outputs": [
    {
     "data": {
      "text/html": [
       "<div>\n",
       "<style scoped>\n",
       "    .dataframe tbody tr th:only-of-type {\n",
       "        vertical-align: middle;\n",
       "    }\n",
       "\n",
       "    .dataframe tbody tr th {\n",
       "        vertical-align: top;\n",
       "    }\n",
       "\n",
       "    .dataframe thead th {\n",
       "        text-align: right;\n",
       "    }\n",
       "</style>\n",
       "<table border=\"1\" class=\"dataframe\">\n",
       "  <thead>\n",
       "    <tr style=\"text-align: right;\">\n",
       "      <th></th>\n",
       "      <th>g</th>\n",
       "      <th>redshift</th>\n",
       "      <th>g-r</th>\n",
       "      <th>i-z</th>\n",
       "      <th>u-r</th>\n",
       "      <th>i-r</th>\n",
       "      <th>z-r</th>\n",
       "    </tr>\n",
       "  </thead>\n",
       "  <tbody>\n",
       "    <tr>\n",
       "      <th>0</th>\n",
       "      <td>1.168843</td>\n",
       "      <td>0.015663</td>\n",
       "      <td>0.552232</td>\n",
       "      <td>-0.040334</td>\n",
       "      <td>-0.570535</td>\n",
       "      <td>-0.637337</td>\n",
       "      <td>-0.597003</td>\n",
       "    </tr>\n",
       "  </tbody>\n",
       "</table>\n",
       "</div>"
      ],
      "text/plain": [
       "          g  redshift       g-r       i-z       u-r       i-r       z-r\n",
       "0  1.168843  0.015663  0.552232 -0.040334 -0.570535 -0.637337 -0.597003"
      ]
     },
     "metadata": {},
     "output_type": "display_data"
    }
   ],
   "source": [
    "df = featurize(df=df)\n",
    "display(df)"
   ]
  },
  {
   "cell_type": "markdown",
   "id": "0c80389c",
   "metadata": {},
   "source": [
    "__6. Predictions__"
   ]
  },
  {
   "cell_type": "code",
   "execution_count": 14,
   "id": "9cf60cee",
   "metadata": {},
   "outputs": [],
   "source": [
    "def prediction(X):\n",
    "    \"\"\"\n",
    "    This functions predicts the datapoint.\n",
    "    \"\"\"\n",
    "    with open(file='gb_classifier.pkl', mode='rb') as m_pkl:\n",
    "        clf, sig_clf = pickle.load(file=m_pkl)\n",
    "    \n",
    "    pred = sig_clf.predict(X=X)\n",
    "    print(\"Predicted class: {}\".format(pred))"
   ]
  },
  {
   "cell_type": "code",
   "execution_count": 15,
   "id": "d66d6232",
   "metadata": {},
   "outputs": [
    {
     "name": "stdout",
     "output_type": "stream",
     "text": [
      "Predicted class: ['GALAXY']\n"
     ]
    }
   ],
   "source": [
    "prediction(X=df)"
   ]
  },
  {
   "cell_type": "markdown",
   "id": "963ada47",
   "metadata": {},
   "source": [
    "__7. Machine learning pipeline__"
   ]
  },
  {
   "cell_type": "code",
   "execution_count": 16,
   "id": "f306cfcf",
   "metadata": {},
   "outputs": [],
   "source": [
    "def ml_pipeline(features):\n",
    "    \"\"\"\n",
    "    This is a local machine learning application.\n",
    "    \"\"\"\n",
    "    print(\"Please provide the data for below features.\")\n",
    "    df = fetch_data(features=features)\n",
    "    df = preprocess(df=df, features=features)\n",
    "    df = featurize(df=df)\n",
    "    prediction(X=df)"
   ]
  },
  {
   "cell_type": "code",
   "execution_count": 17,
   "id": "7f787f3f",
   "metadata": {},
   "outputs": [
    {
     "name": "stdout",
     "output_type": "stream",
     "text": [
      "Please provide the data for below features.\n",
      "  'alpha': 1\n",
      "  'delta': 1\n",
      "  'u': 1\n",
      "  'g': 1\n",
      "  'r': 1\n",
      "  'i': 1\n",
      "  'z': 1\n",
      "  'redshift': 1\n",
      "Raw data is fetched successfully.\n",
      "Predicted class: ['QSO']\n"
     ]
    }
   ],
   "source": [
    "ml_pipeline(features=features)"
   ]
  },
  {
   "cell_type": "code",
   "execution_count": null,
   "id": "b60b2bec",
   "metadata": {},
   "outputs": [],
   "source": []
  }
 ],
 "metadata": {
  "kernelspec": {
   "display_name": "Python 3 (ipykernel)",
   "language": "python",
   "name": "python3"
  },
  "language_info": {
   "codemirror_mode": {
    "name": "ipython",
    "version": 3
   },
   "file_extension": ".py",
   "mimetype": "text/x-python",
   "name": "python",
   "nbconvert_exporter": "python",
   "pygments_lexer": "ipython3",
   "version": "3.11.0"
  }
 },
 "nbformat": 4,
 "nbformat_minor": 5
}
