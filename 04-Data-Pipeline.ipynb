{
 "cells": [
  {
   "cell_type": "markdown",
   "id": "360262f6",
   "metadata": {},
   "source": [
    "In this notebook, I will create a pipeline mechanism to feed the query data for the model to predict the results. This is an important aspect of modeling to check how the model does prediction on a single query point.\n",
    "\n",
    "From `03-Modeling-FI.ipynb` notebook, I noticed __Gradient Boosting__ ensemble classifier outperformed all the models including Random Forest and XGBoost classifiers. Though train loss of Random Forest and XGBoost classifiers is negligible, the cross-validation loss is more, which substantiates the fact that both the models are overfitting."
   ]
  },
  {
   "cell_type": "markdown",
   "id": "4f699499",
   "metadata": {},
   "source": [
    "__1. Packages__"
   ]
  },
  {
   "cell_type": "code",
   "execution_count": 1,
   "id": "ada1411d",
   "metadata": {},
   "outputs": [],
   "source": [
    "import warnings\n",
    "warnings.filterwarnings('ignore')"
   ]
  },
  {
   "cell_type": "code",
   "execution_count": 2,
   "id": "ec2bbac3",
   "metadata": {},
   "outputs": [],
   "source": [
    "from IPython.display import display"
   ]
  },
  {
   "cell_type": "code",
   "execution_count": 3,
   "id": "5b8c38f0",
   "metadata": {},
   "outputs": [],
   "source": [
    "from matplotlib import pyplot as plt\n",
    "from matplotlib import style\n",
    "style.use(style='seaborn-deep')"
   ]
  },
  {
   "cell_type": "code",
   "execution_count": 4,
   "id": "1800d552",
   "metadata": {},
   "outputs": [],
   "source": [
    "from tabulate import tabulate"
   ]
  },
  {
   "cell_type": "code",
   "execution_count": 5,
   "id": "95a32363",
   "metadata": {},
   "outputs": [],
   "source": [
    "import numpy as np\n",
    "import os\n",
    "import pandas as pd\n",
    "import pickle\n",
    "import seaborn as sns"
   ]
  },
  {
   "cell_type": "code",
   "execution_count": 6,
   "id": "7c4e9157",
   "metadata": {},
   "outputs": [],
   "source": [
    "from sklearn.preprocessing import MinMaxScaler"
   ]
  },
  {
   "cell_type": "markdown",
   "id": "430d1a26",
   "metadata": {},
   "source": [
    "__2. Data reading__"
   ]
  },
  {
   "cell_type": "code",
   "execution_count": 7,
   "id": "34c611a5",
   "metadata": {},
   "outputs": [],
   "source": [
    "test_df = pd.read_csv(filepath_or_buffer='test_data.csv')"
   ]
  },
  {
   "cell_type": "code",
   "execution_count": 8,
   "id": "a4e9188c",
   "metadata": {},
   "outputs": [
    {
     "name": "stdout",
     "output_type": "stream",
     "text": [
      "The shape of the test data: (20000, 9)\n",
      "['alpha', 'delta', 'u', 'g', 'r', 'i', 'z', 'redshift', 'class']\n"
     ]
    }
   ],
   "source": [
    "print(\"The shape of the test data: {}\".format(test_df.shape))\n",
    "print(list(test_df.columns))"
   ]
  },
  {
   "cell_type": "code",
   "execution_count": 9,
   "id": "d5ffafa7",
   "metadata": {},
   "outputs": [
    {
     "data": {
      "text/html": [
       "<div>\n",
       "<style scoped>\n",
       "    .dataframe tbody tr th:only-of-type {\n",
       "        vertical-align: middle;\n",
       "    }\n",
       "\n",
       "    .dataframe tbody tr th {\n",
       "        vertical-align: top;\n",
       "    }\n",
       "\n",
       "    .dataframe thead th {\n",
       "        text-align: right;\n",
       "    }\n",
       "</style>\n",
       "<table border=\"1\" class=\"dataframe\">\n",
       "  <thead>\n",
       "    <tr style=\"text-align: right;\">\n",
       "      <th></th>\n",
       "      <th>alpha</th>\n",
       "      <th>delta</th>\n",
       "      <th>u</th>\n",
       "      <th>g</th>\n",
       "      <th>r</th>\n",
       "      <th>i</th>\n",
       "      <th>z</th>\n",
       "      <th>redshift</th>\n",
       "      <th>class</th>\n",
       "    </tr>\n",
       "  </thead>\n",
       "  <tbody>\n",
       "    <tr>\n",
       "      <th>0</th>\n",
       "      <td>246.974162</td>\n",
       "      <td>33.152325</td>\n",
       "      <td>21.96427</td>\n",
       "      <td>20.25309</td>\n",
       "      <td>19.09620</td>\n",
       "      <td>18.56822</td>\n",
       "      <td>18.19525</td>\n",
       "      <td>0.281372</td>\n",
       "      <td>GALAXY</td>\n",
       "    </tr>\n",
       "    <tr>\n",
       "      <th>1</th>\n",
       "      <td>127.613690</td>\n",
       "      <td>31.759591</td>\n",
       "      <td>23.06762</td>\n",
       "      <td>22.91654</td>\n",
       "      <td>21.22299</td>\n",
       "      <td>20.07707</td>\n",
       "      <td>19.41036</td>\n",
       "      <td>0.000000</td>\n",
       "      <td>GALAXY</td>\n",
       "    </tr>\n",
       "    <tr>\n",
       "      <th>2</th>\n",
       "      <td>347.477767</td>\n",
       "      <td>-9.626819</td>\n",
       "      <td>23.01191</td>\n",
       "      <td>20.07524</td>\n",
       "      <td>18.91103</td>\n",
       "      <td>18.53486</td>\n",
       "      <td>18.30015</td>\n",
       "      <td>0.000184</td>\n",
       "      <td>STAR</td>\n",
       "    </tr>\n",
       "    <tr>\n",
       "      <th>3</th>\n",
       "      <td>170.479754</td>\n",
       "      <td>47.432146</td>\n",
       "      <td>19.52529</td>\n",
       "      <td>18.16651</td>\n",
       "      <td>17.59703</td>\n",
       "      <td>17.29709</td>\n",
       "      <td>17.09104</td>\n",
       "      <td>0.056898</td>\n",
       "      <td>GALAXY</td>\n",
       "    </tr>\n",
       "    <tr>\n",
       "      <th>4</th>\n",
       "      <td>327.967136</td>\n",
       "      <td>21.291223</td>\n",
       "      <td>25.35200</td>\n",
       "      <td>24.05777</td>\n",
       "      <td>21.90221</td>\n",
       "      <td>20.32482</td>\n",
       "      <td>19.49638</td>\n",
       "      <td>-0.000130</td>\n",
       "      <td>STAR</td>\n",
       "    </tr>\n",
       "  </tbody>\n",
       "</table>\n",
       "</div>"
      ],
      "text/plain": [
       "        alpha      delta         u         g         r         i         z  \\\n",
       "0  246.974162  33.152325  21.96427  20.25309  19.09620  18.56822  18.19525   \n",
       "1  127.613690  31.759591  23.06762  22.91654  21.22299  20.07707  19.41036   \n",
       "2  347.477767  -9.626819  23.01191  20.07524  18.91103  18.53486  18.30015   \n",
       "3  170.479754  47.432146  19.52529  18.16651  17.59703  17.29709  17.09104   \n",
       "4  327.967136  21.291223  25.35200  24.05777  21.90221  20.32482  19.49638   \n",
       "\n",
       "   redshift   class  \n",
       "0  0.281372  GALAXY  \n",
       "1  0.000000  GALAXY  \n",
       "2  0.000184    STAR  \n",
       "3  0.056898  GALAXY  \n",
       "4 -0.000130    STAR  "
      ]
     },
     "metadata": {},
     "output_type": "display_data"
    }
   ],
   "source": [
    "display(test_df.head())"
   ]
  },
  {
   "cell_type": "code",
   "execution_count": 10,
   "id": "24a86e09",
   "metadata": {},
   "outputs": [
    {
     "name": "stdout",
     "output_type": "stream",
     "text": [
      "['GALAXY' 'QSO' 'STAR']\n"
     ]
    }
   ],
   "source": [
    "labels = np.unique(ar=test_df['class'].values)\n",
    "print(labels)"
   ]
  },
  {
   "cell_type": "code",
   "execution_count": 11,
   "id": "e25a87a3",
   "metadata": {},
   "outputs": [
    {
     "data": {
      "text/html": [
       "<div>\n",
       "<style scoped>\n",
       "    .dataframe tbody tr th:only-of-type {\n",
       "        vertical-align: middle;\n",
       "    }\n",
       "\n",
       "    .dataframe tbody tr th {\n",
       "        vertical-align: top;\n",
       "    }\n",
       "\n",
       "    .dataframe thead th {\n",
       "        text-align: right;\n",
       "    }\n",
       "</style>\n",
       "<table border=\"1\" class=\"dataframe\">\n",
       "  <thead>\n",
       "    <tr style=\"text-align: right;\">\n",
       "      <th></th>\n",
       "      <th>alpha</th>\n",
       "      <th>delta</th>\n",
       "      <th>u</th>\n",
       "      <th>g</th>\n",
       "      <th>r</th>\n",
       "      <th>i</th>\n",
       "      <th>z</th>\n",
       "      <th>redshift</th>\n",
       "    </tr>\n",
       "  </thead>\n",
       "  <tbody>\n",
       "    <tr>\n",
       "      <th>count</th>\n",
       "      <td>20000.000000</td>\n",
       "      <td>20000.000000</td>\n",
       "      <td>20000.000000</td>\n",
       "      <td>20000.000000</td>\n",
       "      <td>20000.000000</td>\n",
       "      <td>20000.000000</td>\n",
       "      <td>20000.000000</td>\n",
       "      <td>20000.000000</td>\n",
       "    </tr>\n",
       "    <tr>\n",
       "      <th>mean</th>\n",
       "      <td>178.189100</td>\n",
       "      <td>24.217515</td>\n",
       "      <td>22.092386</td>\n",
       "      <td>20.631011</td>\n",
       "      <td>19.641835</td>\n",
       "      <td>19.077594</td>\n",
       "      <td>18.765109</td>\n",
       "      <td>0.575100</td>\n",
       "    </tr>\n",
       "    <tr>\n",
       "      <th>std</th>\n",
       "      <td>96.233557</td>\n",
       "      <td>19.655780</td>\n",
       "      <td>2.261144</td>\n",
       "      <td>2.035309</td>\n",
       "      <td>1.853532</td>\n",
       "      <td>1.754459</td>\n",
       "      <td>1.766172</td>\n",
       "      <td>0.729548</td>\n",
       "    </tr>\n",
       "    <tr>\n",
       "      <th>min</th>\n",
       "      <td>0.013337</td>\n",
       "      <td>-18.785328</td>\n",
       "      <td>12.101680</td>\n",
       "      <td>10.498200</td>\n",
       "      <td>10.116040</td>\n",
       "      <td>10.008650</td>\n",
       "      <td>10.441310</td>\n",
       "      <td>-0.005675</td>\n",
       "    </tr>\n",
       "    <tr>\n",
       "      <th>25%</th>\n",
       "      <td>127.928798</td>\n",
       "      <td>5.237683</td>\n",
       "      <td>20.352412</td>\n",
       "      <td>18.965560</td>\n",
       "      <td>18.133860</td>\n",
       "      <td>17.730847</td>\n",
       "      <td>17.461047</td>\n",
       "      <td>0.053931</td>\n",
       "    </tr>\n",
       "    <tr>\n",
       "      <th>50%</th>\n",
       "      <td>181.501058</td>\n",
       "      <td>23.851404</td>\n",
       "      <td>22.195655</td>\n",
       "      <td>21.089230</td>\n",
       "      <td>20.128140</td>\n",
       "      <td>19.397650</td>\n",
       "      <td>18.997370</td>\n",
       "      <td>0.419844</td>\n",
       "    </tr>\n",
       "    <tr>\n",
       "      <th>75%</th>\n",
       "      <td>234.490546</td>\n",
       "      <td>40.038436</td>\n",
       "      <td>23.701460</td>\n",
       "      <td>22.126745</td>\n",
       "      <td>21.033005</td>\n",
       "      <td>20.400550</td>\n",
       "      <td>19.920080</td>\n",
       "      <td>0.699654</td>\n",
       "    </tr>\n",
       "    <tr>\n",
       "      <th>max</th>\n",
       "      <td>359.999810</td>\n",
       "      <td>82.288657</td>\n",
       "      <td>28.095530</td>\n",
       "      <td>31.602240</td>\n",
       "      <td>27.593320</td>\n",
       "      <td>25.673360</td>\n",
       "      <td>26.093500</td>\n",
       "      <td>7.011245</td>\n",
       "    </tr>\n",
       "  </tbody>\n",
       "</table>\n",
       "</div>"
      ],
      "text/plain": [
       "              alpha         delta             u             g             r  \\\n",
       "count  20000.000000  20000.000000  20000.000000  20000.000000  20000.000000   \n",
       "mean     178.189100     24.217515     22.092386     20.631011     19.641835   \n",
       "std       96.233557     19.655780      2.261144      2.035309      1.853532   \n",
       "min        0.013337    -18.785328     12.101680     10.498200     10.116040   \n",
       "25%      127.928798      5.237683     20.352412     18.965560     18.133860   \n",
       "50%      181.501058     23.851404     22.195655     21.089230     20.128140   \n",
       "75%      234.490546     40.038436     23.701460     22.126745     21.033005   \n",
       "max      359.999810     82.288657     28.095530     31.602240     27.593320   \n",
       "\n",
       "                  i             z      redshift  \n",
       "count  20000.000000  20000.000000  20000.000000  \n",
       "mean      19.077594     18.765109      0.575100  \n",
       "std        1.754459      1.766172      0.729548  \n",
       "min       10.008650     10.441310     -0.005675  \n",
       "25%       17.730847     17.461047      0.053931  \n",
       "50%       19.397650     18.997370      0.419844  \n",
       "75%       20.400550     19.920080      0.699654  \n",
       "max       25.673360     26.093500      7.011245  "
      ]
     },
     "metadata": {},
     "output_type": "display_data"
    }
   ],
   "source": [
    "display(test_df.describe())"
   ]
  },
  {
   "cell_type": "code",
   "execution_count": 12,
   "id": "48c2d979",
   "metadata": {},
   "outputs": [],
   "source": [
    "imp_cols = ['u', 'g', 'r', 'i', 'z', 'redshift']\n",
    "target = 'class'"
   ]
  },
  {
   "cell_type": "code",
   "execution_count": 13,
   "id": "1f94bda2",
   "metadata": {},
   "outputs": [],
   "source": [
    "X = test_df[imp_cols]"
   ]
  },
  {
   "cell_type": "code",
   "execution_count": 14,
   "id": "98d052ed",
   "metadata": {},
   "outputs": [],
   "source": [
    "y = test_df[target].values"
   ]
  },
  {
   "cell_type": "markdown",
   "id": "af4051d5",
   "metadata": {},
   "source": [
    "__3. Fetch the data for the model__"
   ]
  },
  {
   "cell_type": "code",
   "execution_count": 24,
   "id": "8e86fafd",
   "metadata": {},
   "outputs": [],
   "source": [
    "def fetch_data(features):\n",
    "    \"\"\"\n",
    "    This function fetches the raw data.\n",
    "    \"\"\"\n",
    "    data = [float(input(\"Enter the feature '{}' data: \".format(f)))\n",
    "            for f in features]\n",
    "    print()\n",
    "    return np.array(object=data).reshape(1, -1)"
   ]
  },
  {
   "cell_type": "code",
   "execution_count": 25,
   "id": "914c7f04",
   "metadata": {},
   "outputs": [
    {
     "name": "stdout",
     "output_type": "stream",
     "text": [
      "Enter the feature 'u' data: 12\n",
      "Enter the feature 'g' data: 12\n",
      "Enter the feature 'r' data: 12\n",
      "Enter the feature 'i' data: 12\n",
      "Enter the feature 'z' data: 12\n",
      "Enter the feature 'redshift' data: 12\n",
      "\n",
      "Query point Xq: [[12. 12. 12. 12. 12. 12.]]\n"
     ]
    }
   ],
   "source": [
    "print(\"Query point Xq: {}\".format(fetch_data(features=imp_cols)))"
   ]
  },
  {
   "cell_type": "code",
   "execution_count": null,
   "id": "060c4204",
   "metadata": {},
   "outputs": [],
   "source": []
  },
  {
   "cell_type": "code",
   "execution_count": null,
   "id": "30a6a161",
   "metadata": {},
   "outputs": [],
   "source": []
  },
  {
   "cell_type": "code",
   "execution_count": null,
   "id": "a06eaa70",
   "metadata": {},
   "outputs": [],
   "source": []
  }
 ],
 "metadata": {
  "kernelspec": {
   "display_name": "Python 3 (ipykernel)",
   "language": "python",
   "name": "python3"
  },
  "language_info": {
   "codemirror_mode": {
    "name": "ipython",
    "version": 3
   },
   "file_extension": ".py",
   "mimetype": "text/x-python",
   "name": "python",
   "nbconvert_exporter": "python",
   "pygments_lexer": "ipython3",
   "version": "3.11.0"
  }
 },
 "nbformat": 4,
 "nbformat_minor": 5
}
